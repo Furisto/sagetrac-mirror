{
 "cells": [
  {
   "cell_type": "code",
   "execution_count": 26,
   "metadata": {},
   "outputs": [
    {
     "data": {
      "text/plain": []
     },
     "execution_count": 26,
     "metadata": {},
     "output_type": "execute_result"
    }
   ],
   "source": []
  },
  {
   "cell_type": "code",
   "execution_count": 12,
   "metadata": {},
   "outputs": [
    {
     "data": {
      "text/plain": [
       "-0.4142135623730951?\n",
       "FastAutomaton with 3 states and an alphabet of 3 letters"
      ]
     },
     "execution_count": 12,
     "metadata": {},
     "output_type": "execute_result"
    }
   ],
   "source": [
    "pi = x^2-2*x-1\n",
    "b = pi.roots(ring=QQbar)[0][0]\n",
    "print b\n",
    "m = BetaAdicMonoid(b, {0,1,2})\n",
    "ared = m.reduced_words_automaton2()\n",
    "ared"
   ]
  },
  {
   "cell_type": "code",
   "execution_count": 13,
   "metadata": {},
   "outputs": [
    {
     "data": {
      "text/plain": []
     },
     "execution_count": 13,
     "metadata": {},
     "output_type": "execute_result"
    }
   ],
   "source": [
    "m.plot2(tss=ared)"
   ]
  },
  {
   "cell_type": "code",
   "execution_count": 14,
   "metadata": {},
   "outputs": [
    {
     "data": {
      "text/plain": []
     },
     "execution_count": 14,
     "metadata": {},
     "output_type": "execute_result"
    }
   ],
   "source": [
    "a = FastAutomaton([(0,1,0),(0,2,2),(1,1,0),(1,1,1),(1,1,2),(2,2,0),(2,2,2)], i=0)\n",
    "a.plot()"
   ]
  },
  {
   "cell_type": "code",
   "execution_count": 15,
   "metadata": {},
   "outputs": [
    {
     "data": {
      "text/plain": [
       "aoc = FastAutomaton with 11 states and an alphabet of 3 letters\n",
       "np = 1\n",
       "compute the pieces exchange...\n",
       "Compute the list of translations...\n",
       "[Ring morphism:\n",
       "  From: Number Field in b with defining polynomial x^2 - 2*x - 1\n",
       "  To:   Real Field with 106 bits of precision\n",
       "  Defn: b |--> -0.4142135623730950488016887242097, Ring morphism:\n",
       "  From: Number Field in b with defining polynomial x^2 - 2*x - 1\n",
       "  To:   Real Field with 106 bits of precision\n",
       "  Defn: b |--> 2.414213562373095048801688724210]\n",
       "ad = FastAutomaton with 10916 states and an alphabet of 5 letters\n",
       "Parcours 8...\n",
       "473409 points calculés\n",
       "tri...\n",
       "list of 3919 points.\n",
       "Compute the pieces...\n",
       "t=b - 2\n",
       "FastAutomaton with 8 states and an alphabet of 3 letters\n",
       "t=1\n",
       "FastAutomaton with 13 states and an alphabet of 3 letters\n",
       "t=b - 1\n",
       "FastAutomaton with 9 states and an alphabet of 3 letters\n",
       "t=2\n",
       "FastAutomaton with 9 states and an alphabet of 3 letters\n",
       "t=b\n",
       "Exchange of 5 pieces\n",
       "Précalculs...\n",
       "arel[b]=FastAutomaton with 7 states and an alphabet of 9 letters\n",
       "arel[1]=FastAutomaton with 5 states and an alphabet of 9 letters\n",
       "arel[2]=FastAutomaton with 6 states and an alphabet of 9 letters\n",
       "arel[b - 2]=FastAutomaton with 5 states and an alphabet of 9 letters\n",
       "arel[b - 1]=FastAutomaton with 6 states and an alphabet of 9 letters\n",
       "baoc : FastAutomaton with 14 states and an alphabet of 3 letters\n",
       "arbre initial : [[1, 2, 3, 4, 5], [], [], [], [], []]\n",
       "lm = [(FastAutomaton with 11 states and an alphabet of 3 letters, 0), (FastAutomaton with 18 states and an alphabet of 3 letters, b), (FastAutomaton with 13 states and an alphabet of 3 letters, 1), (FastAutomaton with 9 states and an alphabet of 3 letters, 2), (FastAutomaton with 8 states and an alphabet of 3 letters, b - 2), (FastAutomaton with 9 states and an alphabet of 3 letters, b - 1)]\n",
       "d = [[], [], [], [], [], []]\n",
       "lf = [1, 2, 3, 4, 5]\n",
       "\n",
       "**********************\n",
       "   Etape 1   \n",
       "**********************\n",
       "\n",
       "Calcul du morceau 1/6 (FastAutomaton with 18 states and an alphabet of 3 letters, b)...\n",
       "Subdivision en 2 morceaux...\n",
       "k=6, tr=0+b : calcul à continuer\n",
       "k=7, tr=0+1 : calcul à continuer\n",
       "\n",
       "Calcul du morceau 2/8 (FastAutomaton with 13 states and an alphabet of 3 letters, 1)...\n",
       "Subdivision en 4 morceaux...\n",
       "k=8, tr=0+1 : calcul à continuer\n",
       "k=9, tr=0+2 : calcul à continuer\n",
       "tr=0 : calcul terminé\n",
       "tr=0 : calcul terminé\n",
       "\n",
       "Calcul du morceau 3/12 (FastAutomaton with 9 states and an alphabet of 3 letters, 2)...\n",
       "tr=2*b : calcul terminé\n",
       "\n",
       "Calcul du morceau 4/12 (FastAutomaton with 8 states and an alphabet of 3 letters, b - 2)...\n",
       "tr=1 : calcul terminé\n",
       "\n",
       "Calcul du morceau 5/12 (FastAutomaton with 9 states and an alphabet of 3 letters, b - 1)...\n",
       "tr=b + 1 : calcul terminé\n",
       "\n",
       "Calcul du morceau 6/12 (FastAutomaton with 17 states and an alphabet of 3 letters, b)...\n",
       "Translation de b...\n",
       "tr=2*b + 1 : calcul terminé\n",
       "\n",
       "Calcul du morceau 7/12 (FastAutomaton with 8 states and an alphabet of 3 letters, b)...\n",
       "Translation de 1...\n",
       "tr=2*b + 1 : calcul terminé\n",
       "\n",
       "Calcul du morceau 8/12 (FastAutomaton with 8 states and an alphabet of 3 letters, 1)...\n",
       "Translation de 1...\n",
       "tr=b : calcul terminé\n",
       "\n",
       "Calcul du morceau 9/12 (FastAutomaton with 9 states and an alphabet of 3 letters, 1)...\n",
       "Translation de 2...\n",
       "tr=b : calcul terminé\n",
       "\n",
       "Calcul du morceau 10/12 (FastAutomaton with 17 states and an alphabet of 3 letters, 1)...\n",
       "\n",
       "Calcul du morceau 11/12 (FastAutomaton with 9 states and an alphabet of 3 letters, 1)...\n",
       "\n",
       "*************\n",
       "   Etape 2   \n",
       "*************\n",
       "\n",
       "Morceau 3/12...\n",
       "\n",
       "Morceau 4/12...\n",
       "\n",
       "Morceau 5/12...\n",
       "\n",
       "Morceau 6/12...\n",
       "Split selon 2 morceaux\n",
       "\n",
       "Morceau 7/12...\n",
       "Split selon 4 morceaux\n",
       "\n",
       "Morceau 8/12...\n",
       "Split selon 4 morceaux\n",
       "\n",
       "Morceau 9/12...\n",
       "\n",
       "Morceau 10/12...\n",
       "\n",
       "Morceau 11/12..."
      ]
     },
     "execution_count": 15,
     "metadata": {},
     "output_type": "execute_result"
    }
   ],
   "source": [
    "d = m.compute_substitution(a, method=1, method_tr=2)"
   ]
  },
  {
   "cell_type": "code",
   "execution_count": 16,
   "metadata": {},
   "outputs": [
    {
     "data": {
      "text/plain": []
     },
     "execution_count": 16,
     "metadata": {},
     "output_type": "execute_result"
    }
   ],
   "source": [
    "s = WordMorphism(d)\n",
    "g = s.rauzy_fractal_plot(10000, prec=100, point_size=.1)\n",
    "g"
   ]
  },
  {
   "cell_type": "code",
   "execution_count": 18,
   "metadata": {},
   "outputs": [
    {
     "data": {
      "text/plain": [
       "WordMorphism: 1->125, 2->7, 3->126, 4->448, 5->9348, 6->93, 7->12, 8->4, 9->5"
      ]
     },
     "execution_count": 18,
     "metadata": {},
     "output_type": "execute_result"
    }
   ],
   "source": [
    "s"
   ]
  },
  {
   "cell_type": "code",
   "execution_count": 23,
   "metadata": {},
   "outputs": [
    {
     "data": {
      "text/plain": [
       "[word: 1257934812512644841257934812579344844844...,\n",
       " word: 4484484448448444844844844484484448448448...]"
      ]
     },
     "execution_count": 23,
     "metadata": {},
     "output_type": "execute_result"
    }
   ],
   "source": [
    "s.fixed_points()"
   ]
  },
  {
   "cell_type": "code",
   "execution_count": 22,
   "metadata": {},
   "outputs": [
    {
     "data": {
      "text/plain": []
     },
     "execution_count": 22,
     "metadata": {},
     "output_type": "execute_result"
    }
   ],
   "source": [
    "g"
   ]
  },
  {
   "cell_type": "code",
   "execution_count": 17,
   "metadata": {},
   "outputs": [
    {
     "data": {
      "text/plain": []
     },
     "execution_count": 17,
     "metadata": {},
     "output_type": "execute_result"
    }
   ],
   "source": [
    "g.save(\"/Users/mercatp/Cantor.png\", axes=False, figsize =30)"
   ]
  },
  {
   "cell_type": "code",
   "execution_count": 25,
   "metadata": {},
   "outputs": [
    {
     "data": {
      "text/plain": []
     },
     "execution_count": 25,
     "metadata": {},
     "output_type": "execute_result"
    }
   ],
   "source": [
    "g.save("
   ]
  },
  {
   "cell_type": "code",
   "execution_count": 6,
   "metadata": {},
   "outputs": [
    {
     "data": {
      "text/plain": [
       "-0.4196433776070806? - 0.6062907292071993?*I\n",
       "Monoid of b-adic expansion with b root of x^3 - x^2 - x - 1 and numerals set {0, 1}"
      ]
     },
     "execution_count": 6,
     "metadata": {},
     "output_type": "execute_result"
    }
   ],
   "source": [
    "pi = x^3-x^2-x-1\n",
    "b = pi.roots(ring=QQbar)[1][0]\n",
    "print b\n",
    "m = BetaAdicMonoid(b, {0,1})\n",
    "print m\n",
    "ared = m.reduced_words_automaton2()"
   ]
  },
  {
   "cell_type": "code",
   "execution_count": 7,
   "metadata": {},
   "outputs": [
    {
     "data": {
      "text/plain": [
       "FastAutomaton with 5 states and an alphabet of 2 letters"
      ]
     },
     "execution_count": 7,
     "metadata": {},
     "output_type": "execute_result"
    }
   ],
   "source": [
    "a = m.user_draw()\n",
    "a"
   ]
  },
  {
   "cell_type": "code",
   "execution_count": 28,
   "metadata": {},
   "outputs": [
    {
     "data": {
      "text/plain": [
       "FastAutomaton with 24 states and an alphabet of 2 letters"
      ]
     },
     "execution_count": 28,
     "metadata": {},
     "output_type": "execute_result"
    }
   ],
   "source": [
    "a = a.zero_inv(z=1).zero_inv()\n",
    "aoc = m.zero_complete(a)\n",
    "aoc"
   ]
  },
  {
   "cell_type": "code",
   "execution_count": 27,
   "metadata": {},
   "outputs": [
    {
     "data": {
      "text/plain": []
     },
     "execution_count": 27,
     "metadata": {},
     "output_type": "execute_result"
    }
   ],
   "source": [
    "m.plot3(la=[ared, aoc])"
   ]
  },
  {
   "cell_type": "code",
   "execution_count": 29,
   "metadata": {},
   "outputs": [
    {
     "data": {
      "text/plain": [
       "[(FastAutomaton with 28 states and an alphabet of 2 letters, 2*b^2 + 1),\n",
       " (FastAutomaton with 15 states and an alphabet of 2 letters, 1),\n",
       " (FastAutomaton with 48 states and an alphabet of 2 letters, b^2 + 1),\n",
       " (FastAutomaton with 26 states and an alphabet of 2 letters, b^2 + b + 1),\n",
       " (FastAutomaton with 39 states and an alphabet of 2 letters, b^2 - 1),\n",
       " (FastAutomaton with 42 states and an alphabet of 2 letters, b^2),\n",
       " (FastAutomaton with 14 states and an alphabet of 2 letters, b - 1),\n",
       " (FastAutomaton with 38 states and an alphabet of 2 letters, b),\n",
       " (FastAutomaton with 15 states and an alphabet of 2 letters, b^2 - b - 1),\n",
       " (FastAutomaton with 17 states and an alphabet of 2 letters, b^2 - b),\n",
       " (FastAutomaton with 18 states and an alphabet of 2 letters, 2*b),\n",
       " (FastAutomaton with 19 states and an alphabet of 2 letters, 2*b^2 - 1),\n",
       " (FastAutomaton with 27 states and an alphabet of 2 letters, 2*b^2)]"
      ]
     },
     "execution_count": 29,
     "metadata": {},
     "output_type": "execute_result"
    }
   ],
   "source": [
    "lm = m.compute_morceaux(aoc)\n",
    "lm"
   ]
  },
  {
   "cell_type": "code",
   "execution_count": 19,
   "metadata": {},
   "outputs": [
    {
     "data": {
      "text/plain": [
       "WARNING: Output truncated!  \n",
       "\n",
       "\n",
       "\n",
       "\n",
       "aoc = FastAutomaton with 24 states and an alphabet of 2 letters\n",
       "np = 1\n",
       "Exchange of 13 pieces\n",
       "Précalculs...\n",
       "arel[2*b^2 + 1]=FastAutomaton with 14 states and an alphabet of 4 letters\n",
       "arel[1]=FastAutomaton with 7 states and an alphabet of 4 letters\n",
       "arel[b^2 + 1]=FastAutomaton with 11 states and an alphabet of 4 letters\n",
       "arel[b^2 + b + 1]=FastAutomaton with 16 states and an alphabet of 4 letters\n",
       "arel[b^2 - 1]=FastAutomaton with 10 states and an alphabet of 4 letters\n",
       "arel[b^2]=FastAutomaton with 11 states and an alphabet of 4 letters\n",
       "arel[b - 1]=FastAutomaton with 7 states and an alphabet of 4 letters\n",
       "arel[b]=FastAutomaton with 9 states and an alphabet of 4 letters\n",
       "arel[b^2 - b - 1]=FastAutomaton with 7 states and an alphabet of 4 letters\n",
       "arel[b^2 - b]=FastAutomaton with 8 states and an alphabet of 4 letters\n",
       "arel[2*b]=FastAutomaton with 10 states and an alphabet of 4 letters\n",
       "arel[2*b^2 - 1]=FastAutomaton with 11 states and an alphabet of 4 letters\n",
       "arel[2*b^2]=FastAutomaton with 14 states and an alphabet of 4 letters\n",
       "baoc : FastAutomaton with 28 states and an alphabet of 2 letters\n",
       "arbre initial : [[1, 2, 3, 4, 5, 6, 7, 8, 9, 10, 11, 12, 13], [], [], [], [], [], [], [], [], [], [], [], [], []]\n",
       "lm = [(FastAutomaton with 24 states and an alphabet of 2 letters, 0), (FastAutomaton with 28 states and an alphabet of 2 letters, 2*b^2 + 1), (FastAutomaton with 15 states and an alphabet of 2 letters, 1), (FastAutomaton with 48 states and an alphabet of 2 letters, b^2 + 1), (FastAutomaton with 26 states and an alphabet of 2 letters, b^2 + b + 1), (FastAutomaton with 39 states and an alphabet of 2 letters, b^2 - 1), (FastAutomaton with 42 states and an alphabet of 2 letters, b^2), (FastAutomaton with 14 states and an alphabet of 2 letters, b - 1), (FastAutomaton with 38 states and an alphabet of 2 letters, b), (FastAutomaton with 15 states and an alphabet of 2 letters, b^2 - b - 1), (FastAutomaton with 17 states and an alphabet of 2 letters, b^2 - b), (FastAutomaton with 18 states and an alphabet of 2 letters, 2*b), (FastAutomaton with 19 states and an alphabet of 2 letters, 2*b^2 - 1), (FastAutomaton with 27 states and an alphabet of 2 letters, 2*b^2)]\n",
       "d = [[], [], [], [], [], [], [], [], [], [], [], [], [], []]\n",
       "lf = [1, 2, 3, 4, 5, 6, 7, 8, 9, 10, 11, 12, 13]\n",
       "\n",
       "**********************\n",
       "   Etape 1   \n",
       "**********************\n",
       "\n",
       "Calcul du morceau 1/14 (FastAutomaton with 28 states and an alphabet of 2 letters, 2*b^2 + 1)...\n",
       "tr=2*b^2 + 3*b + 2 : calcul terminé\n",
       "\n",
       "Calcul du morceau 2/14 (FastAutomaton with 15 states and an alphabet of 2 letters, 1)...\n",
       "Subdivision en 2 morceaux...\n",
       "k=14, tr=0+1 : calcul à continuer\n",
       "tr=0 : calcul terminé\n",
       "\n",
       "Calcul du morceau 3/16 (FastAutomaton with 48 states and an alphabet of 2 letters, b^2 + 1)...\n",
       "tr=b^2 + 2*b + 1 : calcul terminé\n",
       "\n",
       "Calcul du morceau 4/16 (FastAutomaton with 26 states and an alphabet of 2 letters, b^2 + b + 1)...\n",
       "tr=2*b^2 + 2*b + 1 : calcul terminé\n",
       "\n",
       "Calcul du morceau 5/16 (FastAutomaton with 39 states and an alphabet of 2 letters, b^2 - 1)...\n",
       "Subdivision en 2 morceaux...\n",
       "k=16, tr=0+1 : calcul à continuer\n",
       "k=17, tr=0+1 : calcul à continuer\n",
       "\n",
       "Calcul du morceau 6/18 (FastAutomaton with 42 states and an alphabet of 2 letters, b^2)...\n",
       "Subdivision en 3 morceaux...\n",
       "k=18, tr=0+b^2 + 1 : calcul à continuer\n",
       "k=19, tr=0+1 : calcul à continuer\n",
       "k=20, tr=0+1 : calcul à continuer\n",
       "\n",
       "Calcul du morceau 7/21 (FastAutomaton with 14 states and an alphabet of 2 letters, b - 1)...\n",
       "tr=b^2 - b : calcul terminé\n",
       "\n",
       "Calcul du morceau 8/21 (FastAutomaton with 38 states and an alphabet of 2 letters, b)...\n",
       "Subdivision en 4 morceaux...\n",
       "k=21, tr=0+1 : calcul à continuer\n",
       "k=22, tr=0+1 : calcul à continuer\n",
       "\n",
       "...\n",
       "\n",
       "Morceau 13/34...\n",
       "\n",
       "Morceau 16/34...\n",
       "\n",
       "Morceau 17/34...\n",
       "\n",
       "Morceau 18/34...\n",
       "\n",
       "Morceau 19/34...\n",
       "\n",
       "Morceau 20/34...\n",
       "\n",
       "Morceau 21/34...\n",
       "\n",
       "Morceau 22/34...\n",
       "\n",
       "Morceau 23/34...\n",
       "\n",
       "Morceau 24/34...\n",
       "\n",
       "Morceau 25/34...\n",
       "\n",
       "Morceau 27/34...\n",
       "\n",
       "Morceau 28/34...\n",
       "\n",
       "Morceau 29/34...\n",
       "\n",
       "Morceau 30/34...\n",
       "\n",
       "Morceau 31/34...\n",
       "\n",
       "Morceau 32/34...\n",
       "\n",
       "Morceau 33/34...\n",
       "{1: [20, 12, 3, 6],\n",
       " 2: [2, 6],\n",
       " 3: [23, 8, 6],\n",
       " 4: [21],\n",
       " 5: [21, 15],\n",
       " 6: [23, 7],\n",
       " 7: [21, 1, 14],\n",
       " 8: [21, 1, 6],\n",
       " 9: [23, 5, 14],\n",
       " 10: [21, 13],\n",
       " 11: [2, 14],\n",
       " 12: [23, 5, 6],\n",
       " 13: [20, 12, 14],\n",
       " 14: [23, 10],\n",
       " 15: [20, 9],\n",
       " 16: [11],\n",
       " 17: [13],\n",
       " 18: [18, 24],\n",
       " 19: [15],\n",
       " 20: [16],\n",
       " 21: [17],\n",
       " 22: [19, 25],\n",
       " 23: [20, 25],\n",
       " 24: [22, 4],\n",
       " 25: [23, 4]}"
      ]
     },
     "execution_count": 19,
     "metadata": {},
     "output_type": "execute_result"
    }
   ],
   "source": [
    "d = m.compute_substitution(aoc, lt=lm)\n",
    "d"
   ]
  },
  {
   "cell_type": "code",
   "execution_count": 32,
   "metadata": {},
   "outputs": [
    {
     "data": {
      "text/plain": [
       "1->20,12,3,6, 10->21,13, 11->2,14, 12->23,5,6, 13->20,12,14, 14->23,10, 15->20,9, 16->11, 17->13, 18->18,24, 19->15, 2->26, 20->16, 21->17, 22->19,25, 23->20,25, 24->22,4, 25->23,4, 3->23,8,6, 4->21, 5->21,15, 6->23,7, 7->21,1,14, 8->21,1,6, 9->23,5,14"
      ]
     },
     "execution_count": 32,
     "metadata": {},
     "output_type": "execute_result"
    }
   ],
   "source": [
    "s = WordMorphism(d)\n",
    "print s\n",
    "s.rauzy_fractal_plot()"
   ]
  },
  {
   "cell_type": "code",
   "execution_count": 34,
   "metadata": {},
   "outputs": [
    {
     "data": {
      "text/plain": [
       "WordMorphism: 1->20,12,3,6, 10->21,13, 11->2,14, 12->23,5,6, 13->20,12,14, 14->23,10, 15->20,9, 16->11, 17->13, 18->18,24, 19->15, 2->26, 20->16, 21->17, 22->19,25, 23->20,25, 24->22,4, 25->23,4, 3->23,8,6, 4->21, 5->21,15, 6->23,7, 7->21,1,14, 8->21,1,6, 9->23,5,14"
      ]
     },
     "execution_count": 34,
     "metadata": {},
     "output_type": "execute_result"
    }
   ],
   "source": [
    "s"
   ]
  },
  {
   "cell_type": "code",
   "execution_count": 36,
   "metadata": {},
   "outputs": [
    {
     "data": {
      "text/plain": [
       "WordMorphism: 1->20,12,3,6, 10->21,13, 11->2,14, 12->23,5,6, 13->20,12,14, 14->23,10, 15->20,9, 16->11, 17->13, 2->26, 20->16, 21->17, 23->20,25, 25->23,4, 3->23,8,6, 4->21, 5->21,15, 6->23,7, 7->21,1,14, 8->21,1,6, 9->23,5,14"
      ]
     },
     "execution_count": 36,
     "metadata": {},
     "output_type": "execute_result"
    }
   ],
   "source": [
    "s = WordMorphism({1: [20, 12, 3, 6], 2: [2, 6], 3: [23, 8, 6], 4: [21], 5: [21, 15], 6: [23, 7], 7: [21, 1, 14], 8: [21, 1, 6], 9: [23, 5, 14], 10: [21, 13], 11: [2, 14], 12: [23, 5, 6], 13: [20, 12, 14], 14: [23, 10], 15: [20, 9], 16: [11], 17: [13], 20: [16], 21: [17], 23: [20, 25], 25: [23, 4]})\n",
    "s"
   ]
  },
  {
   "cell_type": "code",
   "execution_count": 35,
   "metadata": {},
   "outputs": [
    {
     "data": {
      "text/plain": []
     },
     "execution_count": 35,
     "metadata": {},
     "output_type": "execute_result"
    }
   ],
   "source": [
    "show(s.incidence_matrix()^20)"
   ]
  },
  {
   "cell_type": "code",
   "execution_count": 33,
   "metadata": {},
   "outputs": [
    {
     "data": {
      "text/plain": []
     },
     "execution_count": 33,
     "metadata": {},
     "output_type": "execute_result"
    }
   ],
   "source": [
    "show(s.incidence_matrix().charpoly().factor())"
   ]
  },
  {
   "cell_type": "code",
   "execution_count": 37,
   "metadata": {},
   "outputs": [
    {
     "data": {
      "text/plain": [
       "1->20,12,3,6, 10->21,13, 11->2,14, 12->23,5,6, 13->20,12,14, 14->23,10, 15->20,9, 16->11, 17->13, 18->18,24, 19->15, 2->26, 20->16, 21->17, 22->19,25, 23->20,25, 24->22,4, 25->23,4, 3->23,8,6, 4->21, 5->21,15, 6->23,7, 7->21,1,14, 8->21,1,6, 9->23,5,14"
      ]
     },
     "execution_count": 37,
     "metadata": {},
     "output_type": "execute_result"
    }
   ],
   "source": [
    "s = WordMorphism(d)\n",
    "print s\n",
    "s.rauzy_fractal_plot()"
   ]
  },
  {
   "cell_type": "code",
   "execution_count": 31,
   "metadata": {},
   "outputs": [
    {
     "data": {
      "text/plain": [
       "1->13, 10->1,11, 11->29,6, 12->32,13,14,3, 13->30,26, 14->29,7,3, 15->32,13,27, 16->29,19, 17->1,27, 18->10, 19->28,9, 2->29,7,14,3, 20->33,35, 21->29,34, 22->17, 23->18, 24->19, 25->25,20, 26->28,15, 27->29,16, 28->22, 29->23, 3->29,4, 30->24, 31->26, 32->28,21, 33->31,21, 34->29, 35->30, 4->29,5,27, 5->28,12,3, 6->29,5,8, 7->29,5,2,3, 8->29,7,11, 9->32,13,11"
      ]
     },
     "execution_count": 31,
     "metadata": {},
     "output_type": "execute_result"
    }
   ],
   "source": [
    "s = WordMorphism(d)\n",
    "print s\n",
    "s.rauzy_fractal_plot()"
   ]
  },
  {
   "cell_type": "code",
   "execution_count": 30,
   "metadata": {},
   "outputs": [
    {
     "data": {
      "text/plain": [
       "1->13, 10->27,15,12, 11->1,12, 12->27,7, 13->9, 14->27, 15->27,26, 16->16,2, 17->27,20, 18->27,15,25, 19->11, 2->28,14, 20->27,10, 21->19, 22->20, 23->27,8,12, 24->27,15,5, 25->27,17, 26->27,18, 27->21, 28->22, 3->27,8,4, 4->27,8,5, 5->27,8,3,25, 6->27,24, 7->27,6,23, 8->27,6,4, 9->1,3,25"
      ]
     },
     "execution_count": 30,
     "metadata": {},
     "output_type": "execute_result"
    }
   ],
   "source": [
    "s = WordMorphism(d)\n",
    "print s\n",
    "s.rauzy_fractal_plot()"
   ]
  },
  {
   "cell_type": "code",
   "execution_count": 20,
   "metadata": {},
   "outputs": [
    {
     "data": {
      "text/plain": []
     },
     "execution_count": 20,
     "metadata": {},
     "output_type": "execute_result"
    }
   ],
   "source": [
    "a.plot()"
   ]
  },
  {
   "cell_type": "code",
   "execution_count": 21,
   "metadata": {},
   "outputs": [
    {
     "data": {
      "text/plain": []
     },
     "execution_count": 21,
     "metadata": {},
     "output_type": "execute_result"
    }
   ],
   "source": [
    "aoc = m.zero_complete(a)\n",
    "aoc.plot()"
   ]
  },
  {
   "cell_type": "code",
   "execution_count": 9,
   "metadata": {},
   "outputs": [
    {
     "data": {
      "text/plain": [
       "FastAutomaton with 26 states and an alphabet of 2 letters"
      ]
     },
     "execution_count": 9,
     "metadata": {},
     "output_type": "execute_result"
    }
   ],
   "source": [
    "a = a.zero_inv()\n",
    "a"
   ]
  },
  {
   "cell_type": "code",
   "execution_count": 8,
   "metadata": {},
   "outputs": [
    {
     "data": {
      "text/plain": []
     },
     "execution_count": 8,
     "metadata": {},
     "output_type": "execute_result"
    }
   ],
   "source": [
    "a = a.minimise()\n",
    "a.plot()"
   ]
  },
  {
   "cell_type": "code",
   "execution_count": 2,
   "metadata": {},
   "outputs": [
    {
     "data": {
      "text/plain": [
       "WARNING: Output truncated!  \n",
       "\n",
       "\n",
       "\n",
       "\n",
       "aoc = FastAutomaton with 41 states and an alphabet of 2 letters\n",
       "np = 1\n",
       "compute the pieces exchange...\n",
       "[Ring morphism:\n",
       "  From: Number Field in b with defining polynomial x^3 - x^2 - x - 1\n",
       "  To:   Real Field with 106 bits of precision\n",
       "  Defn: b |--> 1.839286755214161132551852564671, Ring morphism:\n",
       "  From: Number Field in b with defining polynomial x^3 - x^2 - x - 1\n",
       "  To:   Complex Field with 53 bits of precision\n",
       "  Defn: b |--> -0.419643377607080 + 0.606290729207199*I]\n",
       "Compute the pieces...\n",
       "product...\n",
       "determinise...\n",
       "minimise...\n",
       "ad = FastAutomaton with 859 states and an alphabet of 3 letters\n",
       "Parcours 3...\n",
       "14 points calculés\n",
       "tri...\n",
       "Parcours 6...\n",
       "316 points calculés\n",
       "tri...\n",
       "[b + 1, b^2, 2*b + 1, b^2 + b, b^2 + b + 1, b^2 + 2*b + 1, 2*b^2 + b, 2*b^2 + b + 1, 2*b^2 + 2*b + 1, 3*b^2 + b + 1]\n",
       "t=b + 1\n",
       "at[b + 1]=FastAutomaton with 11 states and an alphabet of 2 letters, uc=FastAutomaton with 43 states and an alphabet of 2 letters\n",
       "product...\n",
       "determinise...\n",
       "minimise...\n",
       "ad = FastAutomaton with 865 states and an alphabet of 3 letters\n",
       "Parcours 3...\n",
       "12 points calculés\n",
       "tri...\n",
       "Parcours 6...\n",
       "306 points calculés\n",
       "tri...\n",
       "[b^2, 2*b + 1, b^2 + b, b^2 + b + 1, b^2 + 2*b + 1, 2*b^2 + b, 2*b^2 + b + 1, 2*b^2 + 2*b + 1, 3*b^2 + b + 1, 2*b^2 + 3*b + 2]\n",
       "t=b^2\n",
       "at[b^2]=FastAutomaton with 39 states and an alphabet of 2 letters, uc=FastAutomaton with 58 states and an alphabet of 2 letters\n",
       "product...\n",
       "determinise...\n",
       "minimise...\n",
       "ad = FastAutomaton with 1057 states and an alphabet of 3 letters\n",
       "Parcours 3...\n",
       "11 points calculés\n",
       "tri...\n",
       "Parcours 6...\n",
       "290 points calculés\n",
       "tri...\n",
       "[2*b + 1, b^2 + b, b^2 + b + 1, b^2 + 2*b + 1, 2*b^2 + b, 2*b^2 + b + 1, 2*b^2 + 2*b + 1, 3*b^2 + b + 1, 2*b^2 + 3*b + 2, 3*b^2 + 2*b + 1]\n",
       "t=2*b + 1\n",
       "at[2*b + 1]=FastAutomaton with 13 states and an alphabet of 2 letters, uc=FastAutomaton with 58 states and an alphabet of 2 letters\n",
       "product...\n",
       "determinise...\n",
       "minimise...\n",
       "ad = FastAutomaton with 1030 states and an alphabet of 3 letters\n",
       "Parcours 3...\n",
       "11 points calculés\n",
       "tri...\n",
       "Parcours 6...\n",
       "266 points calculés\n",
       "\n",
       "...\n",
       "\n",
       "\n",
       "Morceau 33/47...\n",
       "\n",
       "Morceau 34/47...\n",
       "\n",
       "Morceau 35/47...\n",
       "\n",
       "Morceau 37/47...\n",
       "\n",
       "Morceau 38/47...\n",
       "\n",
       "Morceau 39/47...\n",
       "\n",
       "Morceau 40/47...\n",
       "\n",
       "Morceau 41/47...\n",
       "\n",
       "Morceau 42/47...\n",
       "\n",
       "Morceau 43/47...\n",
       "\n",
       "Morceau 44/47...\n",
       "\n",
       "Morceau 45/47...\n",
       "\n",
       "Morceau 46/47...\n",
       "{1: [2, 5, 22],\n",
       " 2: [3],\n",
       " 3: [19],\n",
       " 4: [9, 34, 8],\n",
       " 5: [20, 25, 1, 26, 33],\n",
       " 6: [8, 22],\n",
       " 7: [2, 5],\n",
       " 8: [32, 25, 1, 26, 33],\n",
       " 9: [30, 10],\n",
       " 10: [32, 25, 7],\n",
       " 11: [30],\n",
       " 12: [4],\n",
       " 13: [6, 26, 33],\n",
       " 14: [2, 34],\n",
       " 15: [19, 27],\n",
       " 16: [21, 17],\n",
       " 17: [20, 25, 14],\n",
       " 18: [24, 12],\n",
       " 19: [8],\n",
       " 20: [31, 26, 18],\n",
       " 21: [10],\n",
       " 22: [11],\n",
       " 23: [12],\n",
       " 24: [13],\n",
       " 25: [15],\n",
       " 26: [16],\n",
       " 27: [32, 25, 14],\n",
       " 28: [31, 26, 33],\n",
       " 29: [29, 8],\n",
       " 30: [4, 8],\n",
       " 31: [22],\n",
       " 32: [23],\n",
       " 33: [24],\n",
       " 34: [28]}"
      ]
     },
     "execution_count": 2,
     "metadata": {},
     "output_type": "execute_result"
    }
   ],
   "source": [
    "d = m.compute_substitution(a)\n",
    "d"
   ]
  },
  {
   "cell_type": "code",
   "execution_count": 11,
   "metadata": {},
   "outputs": [
    {
     "data": {
      "text/plain": [
       "1->2,5,22, 10->32,25,7, 11->30, 12->4, 13->6,26,33, 14->2,34, 15->19,27, 16->21,17, 17->20,25,14, 18->24,12, 19->8, 2->3, 20->31,26,18, 21->10, 22->11, 23->12, 24->13, 25->15, 26->16, 27->32,25,14, 28->31,26,33, 29->29,8, 3->19, 30->48, 31->22, 32->23, 33->24, 34->28, 4->9,34,8, 5->20,25,1,26,33, 6->8,22, 7->25, 8->32,25,1,26,33, 9->30,10"
      ]
     },
     "execution_count": 11,
     "metadata": {},
     "output_type": "execute_result"
    }
   ],
   "source": [
    "s = WordMorphism(d)\n",
    "print s\n",
    "s.rauzy_fractal_plot()"
   ]
  },
  {
   "cell_type": "code",
   "execution_count": 10,
   "metadata": {},
   "outputs": [
    {
     "data": {
      "text/plain": []
     },
     "execution_count": 10,
     "metadata": {},
     "output_type": "execute_result"
    }
   ],
   "source": [
    "ared = m.reduced_words_automaton2()\n",
    "aoc = m.zero_complete(a)\n",
    "m.plot3(la=[ared, aoc])"
   ]
  },
  {
   "cell_type": "code",
   "execution_count": 3,
   "metadata": {},
   "outputs": [
    {
     "data": {
      "text/plain": [
       "WordMorphism: a->ab, b->ca, c->a"
      ]
     },
     "execution_count": 3,
     "metadata": {},
     "output_type": "execute_result"
    }
   ],
   "source": [
    "s = WordMorphism('a->ab,b->ca,c->a')\n",
    "s"
   ]
  },
  {
   "cell_type": "code",
   "execution_count": 4,
   "metadata": {},
   "outputs": [
    {
     "data": {
      "text/plain": []
     },
     "execution_count": 4,
     "metadata": {},
     "output_type": "execute_result"
    }
   ],
   "source": [
    "s.rauzy_fractal_plot()"
   ]
  },
  {
   "cell_type": "code",
   "execution_count": 5,
   "metadata": {},
   "outputs": [
    {
     "data": {
      "text/plain": []
     },
     "execution_count": 5,
     "metadata": {},
     "output_type": "execute_result"
    }
   ],
   "source": []
  }
 ],
 "metadata": {
  "kernelspec": {
   "display_name": "SageMath",
   "name": "sagemath"
  },
  "language": "python"
 },
 "nbformat": 4,
 "nbformat_minor": 2
}
